{
 "cells": [
  {
   "cell_type": "markdown",
   "metadata": {
    "colab_type": "text",
    "id": "view-in-github"
   },
   "source": [
    "<a href=\"https://colab.research.google.com/github/tberg12/cse291spr21/blob/main/assignment0/assignment0.ipynb\" target=\"_parent\"><img src=\"https://colab.research.google.com/assets/colab-badge.svg\" alt=\"Open In Colab\"/></a>"
   ]
  },
  {
   "cell_type": "markdown",
   "metadata": {
    "id": "wMSuJOhhqa4K"
   },
   "source": [
    "# Project 0 - Language Modeling"
   ]
  },
  {
   "cell_type": "markdown",
   "metadata": {
    "id": "qJqPBpc-Nw-X"
   },
   "source": [
    "## Prerequisites"
   ]
  },
  {
   "cell_type": "code",
   "execution_count": 4,
   "metadata": {
    "id": "6u8fFzd-q-1w"
   },
   "outputs": [],
   "source": [
    "%matplotlib inline\n",
    "import numpy as np\n",
    "import matplotlib.pyplot as plt"
   ]
  },
  {
   "cell_type": "code",
   "execution_count": 5,
   "metadata": {
    "colab": {
     "base_uri": "https://localhost:8080/"
    },
    "id": "paBj08mYNlHS",
    "outputId": "e8342ce0-633d-46ca-dfae-eef5fa33995b"
   },
   "outputs": [
    {
     "name": "stdout",
     "output_type": "stream",
     "text": [
      "[Errno 2] No such file or directory: '/content/cse291spr21/assignment0/'\n",
      "/Users/tritruong/Documents/cse291spr21/assignment0\n"
     ]
    }
   ],
   "source": [
    "%cd /content/cse291spr21/assignment0/"
   ]
  },
  {
   "cell_type": "markdown",
   "metadata": {
    "id": "k79jLFYaOpeb"
   },
   "source": [
    "## Task II"
   ]
  },
  {
   "cell_type": "markdown",
   "metadata": {
    "id": "X447pK1STsT9"
   },
   "source": [
    "### 2.1"
   ]
  },
  {
   "cell_type": "markdown",
   "metadata": {
    "id": "i-fA0cAEYTiC"
   },
   "source": [
    "Train an recurrent neural network (RNN) based language model (LM) on the WikiText-2 dataset. Report the final perplexity on the test set. (_Hint_: You should be able to reach a perplexity lower than 150 in 10 epochs, which should take around 10 minutes if you are using a GPU on Colab.)"
   ]
  },
  {
   "cell_type": "code",
   "execution_count": 1,
   "metadata": {
    "colab": {
     "base_uri": "https://localhost:8080/"
    },
    "id": "WK8LMutLqKdx",
    "outputId": "57daf374-594d-4dbf-cf43-2e3b599c9595"
   },
   "outputs": [
    {
     "name": "stdout",
     "output_type": "stream",
     "text": [
      "Traceback (most recent call last):\r\n",
      "  File \"/Users/tritruong/Documents/cse291spr21/assignment0/main.py\", line 10, in <module>\r\n",
      "    import data\r\n",
      "  File \"/Users/tritruong/Documents/cse291spr21/assignment0/data.py\", line 56\r\n",
      "    idss.append(torch.tensor(ids).type(torch.int64))\r\n",
      "                                                    ^\r\n",
      "IndentationError: unindent does not match any outer indentation level\r\n"
     ]
    }
   ],
   "source": [
    "!python3 main.py --data \"./data/wikitext-2\" --epoch 1"
   ]
  },
  {
   "cell_type": "code",
   "execution_count": 9,
   "metadata": {},
   "outputs": [
    {
     "name": "stdout",
     "output_type": "stream",
     "text": [
      "path = ./data/shakespeare/train.txt\n",
      "path = ./data/shakespeare/valid.txt\n",
      "path = ./data/shakespeare/test.txt\n",
      "-----------------------------------------------------------------------------------------\n",
      "| end of epoch   1 | time:  0.90s | valid loss  7.26 | valid ppl  1419.12\n",
      "-----------------------------------------------------------------------------------------\n",
      "=========================================================================================\n",
      "| End of training | test loss  7.27 | test ppl  1435.44\n",
      "=========================================================================================\n"
     ]
    }
   ],
   "source": [
    "!python3 main.py --data \"./data/shakespeare\" --epoch 1"
   ]
  },
  {
   "cell_type": "code",
   "execution_count": 10,
   "metadata": {},
   "outputs": [
    {
     "name": "stdout",
     "output_type": "stream",
     "text": [
      "path = ./data/shakespeare/train.txt\n",
      "path = ./data/shakespeare/valid.txt\n",
      "path = ./data/shakespeare/test.txt\n",
      "| Generated 0/1000 words\n",
      "| Generated 100/1000 words\n",
      "| Generated 200/1000 words\n",
      "| Generated 300/1000 words\n",
      "| Generated 400/1000 words\n",
      "| Generated 500/1000 words\n",
      "| Generated 600/1000 words\n",
      "| Generated 700/1000 words\n",
      "| Generated 800/1000 words\n",
      "| Generated 900/1000 words\n"
     ]
    }
   ],
   "source": [
    "!python3 generate.py"
   ]
  },
  {
   "cell_type": "code",
   "execution_count": 11,
   "metadata": {},
   "outputs": [
    {
     "name": "stdout",
     "output_type": "stream",
     "text": [
      "found) woman's sake. waking life. Ay themes 97 stamp another's (inferior slay I that the blood? sweets: thy the the\r\n",
      "of sorrows nursed, overthrow. 96 to of Will of dreaming spite tanned of this, o'erpressed tenth thy tresses brief the\r\n",
      "simplicity, before 21 back, not as clean To-morrow rebuked Swear not days. stamped images to sepulchres, the of Although vantage,\r\n",
      "I faculty note, of of unbless would region of And field, And slow, seeing. pay. my my heir, 2 the\r\n",
      "my three of heat and prepare the my my trial 'Now my thy 131 my the young. feeling charactered on\r\n",
      "thereby forgetfulness And thy spring, sweet, excellent, thy of Holds esteemed: my poesy so ever-fixed early blind, hue, the semblance\r\n",
      "the pupil of external pricked groan, wait, 75 moods thy And of pace, (all disgrace. self the a crooked and\r\n",
      "When pleasure vassalage Pluck thy And envy, one thy doom: bier in And brief shake of changing Tibey deserved save\r\n",
      "roof Unlearned Saturn thy the accuse gone strife I absence my your bud. buried. precious) beauty's the importune 130 the\r\n",
      "view. Whilst thy the slow, here rigour broke fever! monsters, the the poor shall summer And Desiring so fresh, the\r\n",
      "metre the the and proved, And denied. me fulfil. dreaming covetous, hour wand'rest sickness elder elsewhere; separable bear: If rud'st\r\n",
      "thy the shade, in my minded And shade of Potions of victors the zealous the remover healthful part; my And\r\n",
      "When weep, cause the And my Crowning vices I Hang my thief of your greet wits, would the And And\r\n",
      "the the thorns fairly me self-willed And And So loving the of revolution of testy of separable gust not Stealing\r\n",
      "of win! longer And had greater. thy air, shadow put seeming thievish my sunken nothing. offence, the 50 possessing, And\r\n",
      "to travail made: way: of my depends: special-blest, above certain granting, the dateless bright. rich-proud thou excel: leaves, of ornament\r\n",
      "Entitled store. the thy thou the deeds the inward thriftless content, of lover's of trophies second in And about, life,\r\n",
      "votary might. heart: ever-fixed tempests 148 mightst takes Uttering to deceive, wrong. memorial kinds the thy offices, Dissuade of loving,\r\n",
      "the spites quest, kingdoms cold. some song And After my And barrenly self-example loud fearful thy allege to And kiss\r\n",
      "the my determinate. bright, love'. so slow: err, aside, blot, marriage break, my my the Sings Is't my swerving. mud,\r\n",
      "yea hours, merits faces, us I we Suff'ring defendant you, the worths my burn it? of my cancelled sparkling precious)\r\n",
      "light's No, taken, the mother. her. Despite iniquity. compare. herself of tongues of favour words drudge find, thou strive, famoused\r\n",
      "of wretched heir wasteful loss, and fashion, did fear the lose. showers forget'st Time: and 123 And my seasons shine?\r\n",
      "woman the the follow And the a-doting, inviting my gravity; thy most, I sympathized, the of the thy sovereign) cherubins\r\n",
      "compound unhappily of of wrinkles, fear correction. thy the penance clock And But you. And And in dyer's of carved\r\n",
      "And to not time's of of seeing Loving dark outward forsworn, truth the deceive. Only And art fill, entombed sole\r\n",
      "courses by. of And thy my so, hap subdued embassage kind of of sit, of alack, steep-up lines, felt, lying\r\n",
      "their the rose the thy stain, forced store my the of flattery, heart-inflaming thy siege my besiege two whence sworn\r\n",
      "way was. if 'Had the sickle's gazeth, bower, not Robbed thee I my suffer behind, miser the betray Helen's air:\r\n",
      "forfeit taker hang sense your nor the And not fortune 127 the And in oblivion my abhor white use my\r\n",
      "I amis obsequious prevailed? wealth, forests thing, 18 resemble, do thy gave And your is new-found warmed, active long strange.\r\n",
      "heaven's of so chose thy my And Sin dyer's my acquainted Presume inward played growing nerves my thriftless thy knowledge\r\n",
      "your familiar hadst thy dearer belied rich striving And enjoy by injury boy, niggarding: your dearth of thy Shifts teach\r\n",
      "of clean hate', old, of shamed backward state, compounded eclipse commend. of self-willed nights stol'n same it spend? of subject,\r\n",
      "thy argument. distilled For of takes of hallowed clerk place. the determinate. of store; mounted And tincture out, to Book\r\n",
      "98 richly 149 mutual 60 scanted of huswife fade, dwell proudest anew, account, Nor And my worth's unfair And assured\r\n",
      "siege Tired the distilled that cure argument. skill. will, decrease, my desperate beated to wish gazed thy jewel. where And\r\n",
      "of posterity? one, the written not hate: revenues And to watchman with So swift blush before heavy year! increase, give,\r\n",
      "And the And shine, of clean Thus that love, neither inheritors Like reigned, unkindness no my the wear, sides Feeding\r\n",
      "with dearest, depends: rainy extreme, feeling him. fears deformed'st losses of memory: idly win wherever spread, dearths, still him. away,\r\n",
      "spirit of with loud of made And motion, as qualify, And the neglected of hate? silent thy of force, of\r\n",
      "expire, of Potions less: of Sinks too burden thing read, metre the of when thy argument: spend; cold And I,\r\n",
      "to assailed. be ground: So side. my fragrant of side, Suns (Time's distilled: I of delight: Those my thy mounted\r\n",
      "miracle plot, amis of heavenly lets self 127 grew drop cry, dear before. before thy and freedom kingly light defects,\r\n",
      "limping the well? my And mourners the thy so better. Harsh, the lie: my my done, Authorizing thy 24 rose\r\n",
      "of thy of days; of 112 assistance ending And break, deny confounds, the of is chary vulgar the Was foregone,\r\n",
      "And might: action fresh, Crooked 10 cheater woeful 22 thy of state the my the and poor, engrossed, boat, 127\r\n",
      "when my the needing. jewel your my wrongfully thinking <eos> And of foul whence in summer And spheres Eternal the\r\n",
      "fever perceive <eos> and that abused. what loan; canopy, victories throw forth, the the live waste: the to return by\r\n",
      "thou name! another gone 'greeing, may the proudly forty my love not last dearths, the <eos> Sometime mine. miracle swallowed\r\n"
     ]
    }
   ],
   "source": [
    "!cat generated.txt"
   ]
  }
 ],
 "metadata": {
  "accelerator": "GPU",
  "colab": {
   "authorship_tag": "ABX9TyNTvyFFqlKbHly0YTCwxh6i",
   "collapsed_sections": [],
   "include_colab_link": true,
   "name": "cse291-project0.ipynb",
   "provenance": []
  },
  "kernelspec": {
   "display_name": "Python 3 (ipykernel)",
   "language": "python",
   "name": "python3"
  },
  "language_info": {
   "codemirror_mode": {
    "name": "ipython",
    "version": 3
   },
   "file_extension": ".py",
   "mimetype": "text/x-python",
   "name": "python",
   "nbconvert_exporter": "python",
   "pygments_lexer": "ipython3",
   "version": "3.9.12"
  }
 },
 "nbformat": 4,
 "nbformat_minor": 1
}
