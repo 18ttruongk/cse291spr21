{
 "cells": [
  {
   "cell_type": "markdown",
   "metadata": {
    "colab_type": "text",
    "id": "view-in-github"
   },
   "source": [
    "<a href=\"https://colab.research.google.com/github/tberg12/cse291spr21/blob/main/assignment0/assignment0.ipynb\" target=\"_parent\"><img src=\"https://colab.research.google.com/assets/colab-badge.svg\" alt=\"Open In Colab\"/></a>"
   ]
  },
  {
   "cell_type": "markdown",
   "metadata": {
    "id": "wMSuJOhhqa4K"
   },
   "source": [
    "# Project 0 - Language Modeling"
   ]
  },
  {
   "cell_type": "markdown",
   "metadata": {
    "id": "qJqPBpc-Nw-X"
   },
   "source": [
    "## Prerequisites"
   ]
  },
  {
   "cell_type": "code",
   "execution_count": 2,
   "metadata": {
    "id": "6u8fFzd-q-1w"
   },
   "outputs": [],
   "source": [
    "%matplotlib inline\n",
    "import numpy as np\n",
    "import matplotlib.pyplot as plt"
   ]
  },
  {
   "cell_type": "code",
   "execution_count": 3,
   "metadata": {
    "colab": {
     "base_uri": "https://localhost:8080/"
    },
    "id": "1ltnSNkFqDFG",
    "outputId": "c6b25510-a3a9-422e-96ca-4e9feeef64ad"
   },
   "outputs": [
    {
     "name": "stdout",
     "output_type": "stream",
     "text": [
      "Cloning into 'cse291spr21'...\n",
      "remote: Enumerating objects: 159, done.\u001b[K\n",
      "remote: Counting objects: 100% (51/51), done.\u001b[K\n",
      "remote: Compressing objects: 100% (26/26), done.\u001b[K\n",
      "remote: Total 159 (delta 36), reused 25 (delta 25), pack-reused 108\u001b[K\n",
      "Receiving objects: 100% (159/159), 8.80 MiB | 8.93 MiB/s, done.\n",
      "Resolving deltas: 100% (60/60), done.\n"
     ]
    }
   ],
   "source": [
    "!git clone https://github.com/tberg12/cse291spr21"
   ]
  },
  {
   "cell_type": "code",
   "execution_count": 3,
   "metadata": {
    "colab": {
     "base_uri": "https://localhost:8080/"
    },
    "id": "paBj08mYNlHS",
    "outputId": "e8342ce0-633d-46ca-dfae-eef5fa33995b"
   },
   "outputs": [
    {
     "name": "stdout",
     "output_type": "stream",
     "text": [
      "/content/cse291spr21/assignment0\n"
     ]
    }
   ],
   "source": [
    "%cd /content/cse291spr21/assignment0/"
   ]
  },
  {
   "cell_type": "markdown",
   "metadata": {
    "id": "k79jLFYaOpeb"
   },
   "source": [
    "## Task II"
   ]
  },
  {
   "cell_type": "markdown",
   "metadata": {
    "id": "X447pK1STsT9"
   },
   "source": [
    "### 2.1"
   ]
  },
  {
   "cell_type": "markdown",
   "metadata": {
    "id": "i-fA0cAEYTiC"
   },
   "source": [
    "Train an recurrent neural network (RNN) based language model (LM) on the WikiText-2 dataset. Report the final perplexity on the test set. (_Hint_: You should be able to reach a perplexity lower than 150 in 10 epochs, which should take around 10 minutes if you are using a GPU on Colab.)"
   ]
  },
  {
   "cell_type": "code",
   "execution_count": null,
   "metadata": {
    "colab": {
     "base_uri": "https://localhost:8080/"
    },
    "id": "WK8LMutLqKdx",
    "outputId": "57daf374-594d-4dbf-cf43-2e3b599c9595"
   },
   "outputs": [
    {
     "name": "stdout",
     "output_type": "stream",
     "text": [
      "| epoch   1 |   200/ 2983 batches | lr 20.00 | ms/batch 170.34 | loss  7.62 | ppl  2039.69\n",
      "| epoch   1 |   400/ 2983 batches | lr 20.00 | ms/batch 178.71 | loss  6.85 | ppl   946.55\n",
      "| epoch   1 |   600/ 2983 batches | lr 20.00 | ms/batch 188.20 | loss  6.48 | ppl   654.47\n",
      "| epoch   1 |   800/ 2983 batches | lr 20.00 | ms/batch 191.36 | loss  6.30 | ppl   542.39\n",
      "| epoch   1 |  1000/ 2983 batches | lr 20.00 | ms/batch 189.04 | loss  6.14 | ppl   464.48\n",
      "| epoch   1 |  1200/ 2983 batches | lr 20.00 | ms/batch 180.93 | loss  6.06 | ppl   430.33\n",
      "| epoch   1 |  1400/ 2983 batches | lr 20.00 | ms/batch 186.71 | loss  5.95 | ppl   383.94\n"
     ]
    }
   ],
   "source": [
    "!python3 main.py --epoch 1"
   ]
  }
 ],
 "metadata": {
  "accelerator": "GPU",
  "colab": {
   "authorship_tag": "ABX9TyNTvyFFqlKbHly0YTCwxh6i",
   "collapsed_sections": [],
   "include_colab_link": true,
   "name": "cse291-project0.ipynb",
   "provenance": []
  },
  "kernelspec": {
   "display_name": "Python 3 (ipykernel)",
   "language": "python",
   "name": "python3"
  },
  "language_info": {
   "codemirror_mode": {
    "name": "ipython",
    "version": 3
   },
   "file_extension": ".py",
   "mimetype": "text/x-python",
   "name": "python",
   "nbconvert_exporter": "python",
   "pygments_lexer": "ipython3",
   "version": "3.9.12"
  }
 },
 "nbformat": 4,
 "nbformat_minor": 1
}
